{
 "cells": [
  {
   "cell_type": "code",
   "execution_count": 1,
   "metadata": {
    "collapsed": false
   },
   "outputs": [],
   "source": [
    "# Implementation of Pollard p-1 algorithm to find prime factors of large numebr\n",
    "# To compare result see https://en.wikipedia.org/wiki/Table_of_prime_factors\n",
    "# First 1000 prime numbers: https://primes.utm.edu/lists/small/1000.txt\n",
    "# First 50 milion primes: http://primes.utm.edu/lists/small/millions/\n",
    "import numpy as np\n",
    "import sys\n",
    "import time\n",
    "from fractions import gcd\n",
    "\n",
    "#N = int(raw_input(\"Please enter the number you want to factor\"))\n",
    "#N = 2763377*2763377 # takes like forever\n",
    "#N = 7919*7919\n",
    "#N = 119\n",
    "N = 103*103\n",
    "\n",
    "# find a coprime to N, coprime is where gcd(a,N)=1\n",
    "# so we define function that computes gcd of two numbers\n",
    "# def gcd(a,b):\n",
    "#     pair = sorted([a,b])\n",
    "#     if pair[0] == 0:\n",
    "#         return pair[1]\n",
    "#     else:\n",
    "#         remainder = pair[1] % pair[0]\n",
    "#     return gcd(pair[0], remainder)"
   ]
  },
  {
   "cell_type": "code",
   "execution_count": 2,
   "metadata": {
    "collapsed": false
   },
   "outputs": [
    {
     "name": "stdout",
     "output_type": "stream",
     "text": [
      "Finding a took: 0.0001201630 sec\n",
      "Coprime a is:  2\n"
     ]
    }
   ],
   "source": [
    "# Pollard p-1 algorithm\n",
    "t_int = time.time()\n",
    "\n",
    "# now we find the coprime a\n",
    "ta_1 = time.time()\n",
    "a = 2\n",
    "while gcd(a, N) != 1:\n",
    "    a += 1\n",
    "    #print \">>>>> a = \", a\n",
    "ta_2 = time.time()\n",
    "print \"Finding a took: %.10f sec\" % (ta_2 - ta_1)\n",
    "print \"Coprime a is: \", a\n",
    "\n",
    "# now look for prime factors\n",
    "def prime_factor(a, k, N):\n",
    "    L = np.math.factorial(k)\n",
    "    return gcd(a**L-1, N)"
   ]
  },
  {
   "cell_type": "code",
   "execution_count": 3,
   "metadata": {
    "collapsed": false
   },
   "outputs": [
    {
     "ename": "KeyboardInterrupt",
     "evalue": "",
     "output_type": "error",
     "traceback": [
      "\u001b[0;31m---------------------------------------------------------------------------\u001b[0m",
      "\u001b[0;31mKeyboardInterrupt\u001b[0m                         Traceback (most recent call last)",
      "\u001b[0;32m<ipython-input-3-01214049a025>\u001b[0m in \u001b[0;36m<module>\u001b[0;34m()\u001b[0m\n\u001b[1;32m      5\u001b[0m \u001b[0;31m#    something to check if N is given as a prime.\u001b[0m\u001b[0;34m\u001b[0m\u001b[0;34m\u001b[0m\u001b[0m\n\u001b[1;32m      6\u001b[0m \u001b[0;31m#    secondly, if N is not prodcuts of primes, then this algo does not work\u001b[0m\u001b[0;34m\u001b[0m\u001b[0;34m\u001b[0m\u001b[0m\n\u001b[0;32m----> 7\u001b[0;31m \u001b[0;32mwhile\u001b[0m \u001b[0mprime_factor\u001b[0m\u001b[0;34m(\u001b[0m\u001b[0ma\u001b[0m\u001b[0;34m,\u001b[0m \u001b[0mk\u001b[0m\u001b[0;34m,\u001b[0m \u001b[0mN\u001b[0m\u001b[0;34m)\u001b[0m \u001b[0;32min\u001b[0m \u001b[0;34m[\u001b[0m\u001b[0;36m1\u001b[0m\u001b[0;34m,\u001b[0m \u001b[0mN\u001b[0m\u001b[0;34m]\u001b[0m\u001b[0;34m:\u001b[0m\u001b[0;34m\u001b[0m\u001b[0m\n\u001b[0m\u001b[1;32m      8\u001b[0m     \u001b[0mk\u001b[0m \u001b[0;34m+=\u001b[0m \u001b[0;36m1\u001b[0m\u001b[0;34m\u001b[0m\u001b[0m\n\u001b[1;32m      9\u001b[0m     \u001b[0;31m#print \">>>>> k = \", k\u001b[0m\u001b[0;34m\u001b[0m\u001b[0;34m\u001b[0m\u001b[0m\n",
      "\u001b[0;32m<ipython-input-2-3bd616f46c27>\u001b[0m in \u001b[0;36mprime_factor\u001b[0;34m(a, k, N)\u001b[0m\n\u001b[1;32m     15\u001b[0m \u001b[0;32mdef\u001b[0m \u001b[0mprime_factor\u001b[0m\u001b[0;34m(\u001b[0m\u001b[0ma\u001b[0m\u001b[0;34m,\u001b[0m \u001b[0mk\u001b[0m\u001b[0;34m,\u001b[0m \u001b[0mN\u001b[0m\u001b[0;34m)\u001b[0m\u001b[0;34m:\u001b[0m\u001b[0;34m\u001b[0m\u001b[0m\n\u001b[1;32m     16\u001b[0m     \u001b[0mL\u001b[0m \u001b[0;34m=\u001b[0m \u001b[0mnp\u001b[0m\u001b[0;34m.\u001b[0m\u001b[0mmath\u001b[0m\u001b[0;34m.\u001b[0m\u001b[0mfactorial\u001b[0m\u001b[0;34m(\u001b[0m\u001b[0mk\u001b[0m\u001b[0;34m)\u001b[0m\u001b[0;34m\u001b[0m\u001b[0m\n\u001b[0;32m---> 17\u001b[0;31m     \u001b[0;32mreturn\u001b[0m \u001b[0mgcd\u001b[0m\u001b[0;34m(\u001b[0m\u001b[0ma\u001b[0m\u001b[0;34m**\u001b[0m\u001b[0mL\u001b[0m\u001b[0;34m-\u001b[0m\u001b[0;36m1\u001b[0m\u001b[0;34m,\u001b[0m \u001b[0mN\u001b[0m\u001b[0;34m)\u001b[0m\u001b[0;34m\u001b[0m\u001b[0m\n\u001b[0m",
      "\u001b[0;31mKeyboardInterrupt\u001b[0m: "
     ]
    }
   ],
   "source": [
    "k = 2\n",
    "# 1) need to beware of 2^k when k goes large\n",
    "# 2) notice N probably has to be actually a product of two primes, \n",
    "#    otherwise while loop below will run forever. We can certainly write \n",
    "#    something to check if N is given as a prime.\n",
    "#    secondly, if N is not prodcuts of primes, then this algo does not work\n",
    "while prime_factor(a, k, N) in [1, N]:\n",
    "    k += 1\n",
    "    #print \">>>>> k = \", k\n",
    "result = prime_factor(a, k, N)\n",
    "t_end = time.time()\n",
    "print \"Total time used %.16f sec\" % (t_end - t_int) # figure out digits of float in python\n",
    "if result in [1, N]:\n",
    "    print \"Current iteration did not find prime facotr of N!\\n \\\n",
    "           or N is prime\"\n",
    "else:\n",
    "    print \"Prime factors are %d ad %d\" % (result, N/result)"
   ]
  },
  {
   "cell_type": "markdown",
   "metadata": {},
   "source": [
    "### Wrong( so far any suitable number N less than 1000, out program can handle pretty quick, also tried larger number 967x971, which gave 0.07 sec. Lets try some larger ones,  4049x4049 took 3.685 secs 7919x7919 took 28.014 sec, now for the extreme, we try number around a million, 2763377x2763377 start running around 12 am and until 1am its still not done yet) forgot its a^L - 1 not L, so now it takes a long long time to just factor N = 103*103"
   ]
  },
  {
   "cell_type": "code",
   "execution_count": 3,
   "metadata": {
    "collapsed": false
   },
   "outputs": [
    {
     "name": "stdout",
     "output_type": "stream",
     "text": [
      "python gcd 0.011873960495\n"
     ]
    }
   ],
   "source": [
    "t1 = time.time()\n",
    "prime_factor(2, 10, N)\n",
    "t2 = time.time()\n",
    "print \"python gcd\", (t2-t1)"
   ]
  },
  {
   "cell_type": "markdown",
   "metadata": {
    "collapsed": false
   },
   "source": [
    "better algorithm found online"
   ]
  },
  {
   "cell_type": "code",
   "execution_count": 4,
   "metadata": {
    "collapsed": false
   },
   "outputs": [],
   "source": [
    "def pollard(n):\n",
    "    def get_factor(n):\n",
    "        x_fixed = 2\n",
    "        x = 2\n",
    "        cycle_size = 2\n",
    "        factor = 1\n",
    "\n",
    "        while factor == 1:\n",
    "            for count in xrange(cycle_size):\n",
    "                if factor > 1: break\n",
    "                x = (x * x + 1) % n\n",
    "                factor = gcd(x - x_fixed, n)\n",
    "\n",
    "            cycle_size *= 2\n",
    "            x_fixed = x\n",
    "\n",
    "        return factor\n",
    "\n",
    "    factors = []\n",
    "    while n > 1:\n",
    "        next = get_factor(n)\n",
    "        factors.append(next)\n",
    "        n //= next\n",
    "    return factors"
   ]
  },
  {
   "cell_type": "code",
   "execution_count": 7,
   "metadata": {
    "collapsed": false
   },
   "outputs": [
    {
     "name": "stdout",
     "output_type": "stream",
     "text": [
      "[5915587277L, 5915587277L]\n",
      "pollard used 0.19952 sec\n"
     ]
    }
   ],
   "source": [
    "t1 = time.time()\n",
    "# N_large = 982451653*961748941\n",
    "# N_large = 48112959837082048697*48112959837082048697\n",
    "N_large = 5915587277*5915587277\n",
    "print pollard(N_large)\n",
    "t2 = time.time()\n",
    "print \"pollard used %.5f sec\" % (t2-t1)"
   ]
  },
  {
   "cell_type": "code",
   "execution_count": null,
   "metadata": {
    "collapsed": true
   },
   "outputs": [],
   "source": []
  }
 ],
 "metadata": {
  "kernelspec": {
   "display_name": "Python 2",
   "language": "python",
   "name": "python2"
  },
  "language_info": {
   "codemirror_mode": {
    "name": "ipython",
    "version": 2
   },
   "file_extension": ".py",
   "mimetype": "text/x-python",
   "name": "python",
   "nbconvert_exporter": "python",
   "pygments_lexer": "ipython2",
   "version": "2.7.12"
  }
 },
 "nbformat": 4,
 "nbformat_minor": 1
}
