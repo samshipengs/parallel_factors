{
 "cells": [
  {
   "cell_type": "code",
   "execution_count": 1,
   "metadata": {
    "collapsed": true
   },
   "outputs": [],
   "source": [
    "# load library\n",
    "import numpy as np\n",
    "import sys\n",
    "import time\n",
    "from fractions import gcd\n",
    "from multiprocessing import Pool\n",
    "from functools import partial\n",
    "import itertools"
   ]
  },
  {
   "cell_type": "markdown",
   "metadata": {},
   "source": [
    "Define sequential implementation of pollard p-1"
   ]
  },
  {
   "cell_type": "code",
   "execution_count": 2,
   "metadata": {
    "collapsed": true
   },
   "outputs": [],
   "source": [
    "def pm1_seq(n):\n",
    "    t1 = time.time()\n",
    "    # now we find the coprime a\n",
    "    a = 2\n",
    "    while gcd(a, n) != 1:\n",
    "        a += 1\n",
    "    t2 = time.time()\n",
    "    # now look for prime factors\n",
    "    def prime_factor(k):\n",
    "        L = np.math.factorial(k)\n",
    "        return gcd(a**L-1, n)\n",
    "    k = 1\n",
    "    result = 1\n",
    "    while result in [1, n]:\n",
    "        result = prime_factor(k)\n",
    "        k += 1\n",
    "    t3 = time.time()\n",
    "    return t3-t1"
   ]
  },
  {
   "cell_type": "code",
   "execution_count": 2,
   "metadata": {
    "collapsed": false
   },
   "outputs": [],
   "source": [
    "# use small prime numbers for p-1: https://primes.utm.edu/lists/small/1000.txt\n",
    "primes = [2, 3, 5, 7, 11, 13, 17, 19, 23, 29, 31, 37, 41, 43, 47, 53, 59]\n",
    "# we test on all possible pair product of primes listed above\n",
    "N_test = sorted(list([i[0]*i[1] for i in list(itertools.combinations(primes, 2))]))\n",
    "N_test = sorted(list(set(N_test) - set([65, 85, 221, 341, 451, 703, 1247, 1271, 2491, 2773])))\n",
    "time_seq = [pm1_seq(N) for N in N_test]"
   ]
  },
  {
   "cell_type": "markdown",
   "metadata": {
    "collapsed": true
   },
   "source": [
    "Now parallel implementation"
   ]
  },
  {
   "cell_type": "code",
   "execution_count": 3,
   "metadata": {
    "collapsed": false
   },
   "outputs": [],
   "source": [
    "def prime_factor(K):\n",
    "    L = np.math.factorial(K)\n",
    "    return gcd(a**L-1, n)\n",
    "\n",
    "def pm1_par(N):\n",
    "    global n \n",
    "    n = N\n",
    "    t1 = time.time()\n",
    "    # now we find the coprime a\n",
    "    global a\n",
    "    a = 2\n",
    "    while gcd(a, n) != 1:\n",
    "        a += 1\n",
    "    t2 = time.time()\n",
    "    k = 1\n",
    "    result = 1\n",
    "    p = Pool(4) # use Pool from multiprocessing\n",
    "    while result in [1, n]:\n",
    "        results = p.map(prime_factor, [k, k+1, k+2, k+3])\n",
    "        k += 4\n",
    "        for i in results:\n",
    "            if i not in [1, n]:\n",
    "                result = i\n",
    "    t3 = time.time()\n",
    "    p.close()\n",
    "    p.join()\n",
    "    if result in [1, n]:\n",
    "        print \"Current iteration did not find prime facotr of N! or N is prime\"\n",
    "    else:\n",
    "        print \"Prime factors are %d ad %d\" % (result, n/result)\n",
    "    return t3 - t1"
   ]
  },
  {
   "cell_type": "code",
   "execution_count": 4,
   "metadata": {
    "collapsed": false
   },
   "outputs": [
    {
     "name": "stdout",
     "output_type": "stream",
     "text": [
      "Prime factors are 2 ad 3\n",
      "Prime factors are 2 ad 5\n",
      "Prime factors are 2 ad 7\n",
      "Prime factors are 3 ad 5\n",
      "Prime factors are 3 ad 7\n",
      "Prime factors are 2 ad 11\n",
      "Prime factors are 2 ad 13\n",
      "Prime factors are 3 ad 11\n",
      "Prime factors are 2 ad 17\n",
      "Prime factors are 7 ad 5\n",
      "Prime factors are 2 ad 19\n",
      "Prime factors are 3 ad 13\n",
      "Prime factors are 2 ad 23\n",
      "Prime factors are 3 ad 17\n",
      "Prime factors are 5 ad 11\n",
      "Prime factors are 3 ad 19\n",
      "Prime factors are 2 ad 29\n",
      "Prime factors are 2 ad 31\n",
      "Prime factors are 3 ad 23\n",
      "Prime factors are 2 ad 37\n",
      "Prime factors are 7 ad 11\n",
      "Prime factors are 2 ad 41\n",
      "Prime factors are 2 ad 43\n",
      "Prime factors are 3 ad 29\n",
      "Prime factors are 7 ad 13\n",
      "Prime factors are 3 ad 31\n",
      "Prime factors are 2 ad 47\n",
      "Prime factors are 5 ad 19\n",
      "Prime factors are 2 ad 53\n",
      "Prime factors are 3 ad 37\n",
      "Prime factors are 5 ad 23\n",
      "Prime factors are 2 ad 59\n",
      "Prime factors are 7 ad 17\n",
      "Prime factors are 3 ad 41\n",
      "Prime factors are 3 ad 43\n",
      "Prime factors are 7 ad 19\n",
      "Prime factors are 3 ad 47\n",
      "Prime factors are 13 ad 11\n",
      "Prime factors are 5 ad 29\n",
      "Prime factors are 5 ad 31\n",
      "Prime factors are 3 ad 53\n",
      "Prime factors are 7 ad 23\n",
      "Prime factors are 3 ad 59\n",
      "Prime factors are 5 ad 37\n",
      "Prime factors are 17 ad 11\n",
      "Prime factors are 7 ad 29\n",
      "Prime factors are 5 ad 41\n",
      "Prime factors are 11 ad 19\n",
      "Prime factors are 5 ad 43\n",
      "Prime factors are 7 ad 31\n",
      "Prime factors are 5 ad 47\n",
      "Prime factors are 13 ad 19\n",
      "Prime factors are 11 ad 23\n",
      "Prime factors are 7 ad 37\n",
      "Prime factors are 5 ad 53\n",
      "Prime factors are 7 ad 41\n",
      "Prime factors are 5 ad 59\n",
      "Prime factors are 13 ad 23\n",
      "Prime factors are 7 ad 43\n",
      "Prime factors are 11 ad 29\n",
      "Prime factors are 17 ad 19\n",
      "Prime factors are 7 ad 47\n",
      "Prime factors are 7 ad 53\n",
      "Prime factors are 13 ad 29\n",
      "Prime factors are 17 ad 23\n",
      "Prime factors are 13 ad 31\n",
      "Prime factors are 11 ad 37\n",
      "Prime factors are 7 ad 59\n",
      "Prime factors are 19 ad 23\n",
      "Prime factors are 11 ad 43\n",
      "Prime factors are 13 ad 37\n",
      "Prime factors are 17 ad 29\n",
      "Prime factors are 11 ad 47\n",
      "Prime factors are 17 ad 31\n",
      "Prime factors are 13 ad 41\n",
      "Prime factors are 19 ad 29\n",
      "Prime factors are 13 ad 43\n",
      "Prime factors are 11 ad 53\n",
      "Prime factors are 31 ad 19\n",
      "Prime factors are 13 ad 47\n",
      "Prime factors are 17 ad 37\n",
      "Prime factors are 11 ad 59\n",
      "Prime factors are 29 ad 23\n",
      "Prime factors are 13 ad 53\n",
      "Prime factors are 17 ad 41\n",
      "Prime factors are 31 ad 23\n",
      "Prime factors are 17 ad 43\n",
      "Prime factors are 13 ad 59\n",
      "Prime factors are 41 ad 19\n",
      "Prime factors are 17 ad 47\n",
      "Prime factors are 19 ad 43\n",
      "Prime factors are 37 ad 23\n",
      "Prime factors are 19 ad 47\n",
      "Prime factors are 31 ad 29\n",
      "Prime factors are 17 ad 53\n",
      "Prime factors are 41 ad 23\n",
      "Prime factors are 43 ad 23\n",
      "Prime factors are 17 ad 59\n",
      "Prime factors are 19 ad 53\n",
      "Prime factors are 37 ad 29\n",
      "Prime factors are 23 ad 47\n",
      "Prime factors are 19 ad 59\n",
      "Prime factors are 31 ad 37\n",
      "Prime factors are 41 ad 29\n",
      "Prime factors are 23 ad 53\n",
      "Prime factors are 31 ad 43\n",
      "Prime factors are 23 ad 59\n",
      "Prime factors are 29 ad 47\n",
      "Prime factors are 31 ad 47\n",
      "Prime factors are 41 ad 37\n",
      "Prime factors are 29 ad 53\n",
      "Prime factors are 37 ad 43\n",
      "Prime factors are 31 ad 53\n",
      "Prime factors are 29 ad 59\n",
      "Prime factors are 37 ad 47\n",
      "Prime factors are 41 ad 43\n",
      "Prime factors are 31 ad 59\n",
      "Prime factors are 41 ad 47\n",
      "Prime factors are 37 ad 53\n",
      "Prime factors are 43 ad 47\n",
      "Prime factors are 41 ad 53\n",
      "Prime factors are 37 ad 59\n",
      "Prime factors are 43 ad 53\n",
      "Prime factors are 41 ad 59\n",
      "Prime factors are 43 ad 59\n"
     ]
    }
   ],
   "source": [
    "time_par = [pm1_par(N) for N in N_test]"
   ]
  },
  {
   "cell_type": "code",
   "execution_count": 5,
   "metadata": {
    "collapsed": false
   },
   "outputs": [
    {
     "name": "stdout",
     "output_type": "stream",
     "text": [
      "[6, 10, 14, 15, 21, 22, 26, 33, 34, 35, 38, 39, 46, 51, 55, 57, 58, 62, 69, 74, 77, 82, 86, 87, 91, 93, 94, 95, 106, 111, 115, 118, 119, 123, 129, 133, 141, 143, 145, 155, 159, 161, 177, 185, 187, 203, 205, 209, 215, 217, 235, 247, 253, 259, 265, 287, 295, 299, 301, 319, 323, 329, 371, 377, 391, 403, 407, 413, 437, 473, 481, 493, 517, 527, 533, 551, 559, 583, 589, 611, 629, 649, 667, 689, 697, 713, 731, 767, 779, 799, 817, 851, 893, 899, 901, 943, 989, 1003, 1007, 1073, 1081, 1121, 1147, 1189, 1219, 1333, 1357, 1363, 1457, 1517, 1537, 1591, 1643, 1711, 1739, 1763, 1829, 1927, 1961, 2021, 2173, 2183, 2279, 2419, 2537, 3127]\n"
     ]
    }
   ],
   "source": [
    "print N_test"
   ]
  },
  {
   "cell_type": "code",
   "execution_count": 6,
   "metadata": {
    "collapsed": false
   },
   "outputs": [
    {
     "name": "stdout",
     "output_type": "stream",
     "text": [
      "[2.002716064453125e-05, 5.9604644775390625e-06, 5.0067901611328125e-06, 5.0067901611328125e-06, 0.0014469623565673828, 1.1920928955078125e-05, 3.814697265625e-06, 3.814697265625e-06, 3.0994415283203125e-06, 5.9604644775390625e-06, 4.0531158447265625e-06, 4.0531158447265625e-06, 3.0994415283203125e-06, 4.0531158447265625e-06, 6.9141387939453125e-06, 4.0531158447265625e-06, 3.0994415283203125e-06, 4.0531158447265625e-06, 3.0994415283203125e-06, 4.0531158447265625e-06, 5.0067901611328125e-06, 4.0531158447265625e-06, 3.814697265625e-06, 4.0531158447265625e-06, 5.0067901611328125e-06, 3.814697265625e-06, 2.86102294921875e-06, 8.106231689453125e-06, 4.0531158447265625e-06, 3.814697265625e-06, 8.106231689453125e-06, 3.0994415283203125e-06, 5.0067901611328125e-06, 4.0531158447265625e-06, 3.0994415283203125e-06, 5.9604644775390625e-06, 3.0994415283203125e-06, 5.9604644775390625e-06, 8.106231689453125e-06, 7.867813110351562e-06, 4.0531158447265625e-06, 5.9604644775390625e-06, 4.0531158447265625e-06, 8.106231689453125e-06, 7.867813110351562e-06, 5.0067901611328125e-06, 7.152557373046875e-06, 1.5020370483398438e-05, 7.152557373046875e-06, 5.0067901611328125e-06, 6.9141387939453125e-06, 6.198883056640625e-06, 1.2874603271484375e-05, 5.0067901611328125e-06, 7.152557373046875e-06, 5.0067901611328125e-06, 8.106231689453125e-06, 6.9141387939453125e-06, 5.0067901611328125e-06, 1.2159347534179688e-05, 5.9604644775390625e-06, 6.198883056640625e-06, 5.0067901611328125e-06, 7.867813110351562e-06, 8.106231689453125e-06, 5.9604644775390625e-06, 1.0013580322265625e-05, 4.76837158203125e-06, 1.6927719116210938e-05, 1.1920928955078125e-05, 6.9141387939453125e-06, 8.106231689453125e-06, 1.1920928955078125e-05, 5.9604644775390625e-06, 5.9604644775390625e-06, 1.9073486328125e-05, 7.867813110351562e-06, 1.1205673217773438e-05, 1.2874603271484375e-05, 8.106231689453125e-06, 5.0067901611328125e-06, 1.1920928955078125e-05, 3.814697265625e-05, 6.9141387939453125e-06, 6.9141387939453125e-06, 1.0013580322265625e-05, 8.106231689453125e-06, 7.867813110351562e-06, 1.0967254638671875e-05, 8.106231689453125e-06, 1.811981201171875e-05, 1.5020370483398438e-05, 1.6927719116210938e-05, 1.0967254638671875e-05, 7.152557373046875e-06, 1.1920928955078125e-05, 3.1948089599609375e-05, 5.9604644775390625e-06, 1.5974044799804688e-05, 1.5020370483398438e-05, 0.22980809211730957, 4.506111145019531e-05, 1.0013580322265625e-05, 3.600120544433594e-05, 0.21922016143798828, 3.814697265625e-05, 0.21106791496276855, 5.698204040527344e-05, 2.09808349609375e-05, 1.2159347534179688e-05, 4.100799560546875e-05, 2.384185791015625e-05, 1.3113021850585938e-05, 3.1948089599609375e-05, 2.3126602172851562e-05, 1.9073486328125e-05, 8.821487426757812e-06, 1.0013580322265625e-05, 1.4066696166992188e-05, 2.9087066650390625e-05, 9.059906005859375e-06, 1.2874603271484375e-05, 2.8848648071289062e-05, 9.059906005859375e-06, 2.9087066650390625e-05, 55.00026297569275]\n"
     ]
    }
   ],
   "source": [
    "print time_seq"
   ]
  },
  {
   "cell_type": "code",
   "execution_count": 5,
   "metadata": {
    "collapsed": false
   },
   "outputs": [
    {
     "name": "stdout",
     "output_type": "stream",
     "text": [
      "[0.10699105262756348, 0.021251916885375977, 0.021519899368286133, 0.02981114387512207, 0.033212900161743164, 0.025424957275390625, 0.030632972717285156, 0.02173900604248047, 0.03620004653930664, 0.019633054733276367, 0.022873878479003906, 0.033744096755981445, 0.022864818572998047, 0.03370404243469238, 0.03073906898498535, 0.031113147735595703, 0.03151202201843262, 0.01841878890991211, 0.027647018432617188, 0.02550196647644043, 0.03282904624938965, 0.018101215362548828, 0.020843029022216797, 0.01727914810180664, 0.016530990600585938, 0.01625990867614746, 0.016306161880493164, 0.02994084358215332, 0.03379321098327637, 0.032058000564575195, 0.027821063995361328, 0.01678299903869629, 0.01768207550048828, 0.02332305908203125, 0.024616003036499023, 0.028816938400268555, 0.036331892013549805, 0.03625082969665527, 0.012317895889282227, 0.01809978485107422, 0.023875951766967773, 0.01349496841430664, 0.025821924209594727, 0.027882099151611328, 0.028192996978759766, 0.02741408348083496, 0.022156953811645508, 0.034139156341552734, 0.0256350040435791, 0.023708105087280273, 0.02897500991821289, 0.0261077880859375, 0.019126176834106445, 0.021299123764038086, 0.03591799736022949, 0.01497197151184082, 0.02499699592590332, 0.026051044464111328, 0.029188871383666992, 0.03092193603515625, 0.015080928802490234, 0.03145909309387207, 0.014725208282470703, 0.022663116455078125, 0.021467924118041992, 0.02387690544128418, 0.032035112380981445, 0.030145883560180664, 0.018212080001831055, 0.031556129455566406, 0.019623994827270508, 0.028903961181640625, 0.01829695701599121, 0.02935791015625, 0.02572011947631836, 0.030694007873535156, 0.022024869918823242, 0.0187380313873291, 0.021677017211914062, 0.027224063873291016, 0.01540517807006836, 0.02491593360900879, 0.01740884780883789, 0.021404027938842773, 0.01939702033996582, 0.014401912689208984, 0.012954950332641602, 0.024084806442260742, 0.031655073165893555, 0.03282308578491211, 0.017657995223999023, 0.029321908950805664, 0.016355037689208984, 0.01587700843811035, 0.029219865798950195, 0.01983785629272461, 0.024760007858276367, 0.024003982543945312, 0.022886037826538086, 0.024545907974243164, 3.6166720390319824, 0.026257038116455078, 0.033106088638305664, 0.027879953384399414, 4.020425796508789, 0.02328205108642578, 3.1403441429138184, 0.021940946578979492, 0.029066085815429688, 0.016791105270385742, 0.03288006782531738, 0.027784109115600586, 0.03151392936706543, 0.02770209312438965, 0.025471925735473633, 0.029836177825927734, 0.0173799991607666, 0.019819021224975586, 0.03002309799194336, 0.03137922286987305, 0.024465084075927734, 0.026667118072509766, 0.027636051177978516, 0.015681982040405273, 0.022349834442138672]\n"
     ]
    }
   ],
   "source": [
    "print time_par"
   ]
  },
  {
   "cell_type": "code",
   "execution_count": null,
   "metadata": {
    "collapsed": true
   },
   "outputs": [],
   "source": []
  }
 ],
 "metadata": {
  "kernelspec": {
   "display_name": "Python 2",
   "language": "python",
   "name": "python2"
  },
  "language_info": {
   "codemirror_mode": {
    "name": "ipython",
    "version": 2
   },
   "file_extension": ".py",
   "mimetype": "text/x-python",
   "name": "python",
   "nbconvert_exporter": "python",
   "pygments_lexer": "ipython2",
   "version": "2.7.11"
  }
 },
 "nbformat": 4,
 "nbformat_minor": 0
}
