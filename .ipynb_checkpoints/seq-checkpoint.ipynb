{
 "cells": [
  {
   "cell_type": "code",
   "execution_count": 1,
   "metadata": {
    "collapsed": false
   },
   "outputs": [],
   "source": [
    "# Implementation of Pollard p-1 algorithm to find prime factors of large numebr\n",
    "# To compare result see https://en.wikipedia.org/wiki/Table_of_prime_factors\n",
    "# First 1000 prime numbers: https://primes.utm.edu/lists/small/1000.txt\n",
    "# First 50 milion primes: http://primes.utm.edu/lists/small/millions/\n",
    "import numpy as np\n",
    "import time\n",
    "\n",
    "#N = int(raw_input(\"Please enter the number you want to factor\"))\n",
    "# N = 2763377*2763377 # takes like forever\n",
    "N = 7919*7919\n",
    "\n",
    "# find a coprime to N, coprime is where gcd(a,N)=1\n",
    "# so we define function that computes gcd of two numbers\n",
    "def gcd(a,b):\n",
    "    pair = sorted([a,b])\n",
    "    if pair[0] == 0:\n",
    "        return pair[1]\n",
    "    else:\n",
    "        remainder = pair[1] % pair[0]\n",
    "    return gcd(pair[0], remainder)"
   ]
  },
  {
   "cell_type": "code",
   "execution_count": 2,
   "metadata": {
    "collapsed": false
   },
   "outputs": [
    {
     "name": "stdout",
     "output_type": "stream",
     "text": [
      "Coprime a is:  2\n",
      "Total time used 28.1877980232238770 sec\n",
      "Prime factors are 7919 ad 7919\n"
     ]
    }
   ],
   "source": [
    "# Pollard p-1 algorithm\n",
    "t_int = time.time()\n",
    "\n",
    "# now we find the coprime a\n",
    "a = 2\n",
    "while gcd(a, N) != 1:\n",
    "    a += 1\n",
    "    #print \">>>>> a = \", a\n",
    "print \"Coprime a is: \", a\n",
    "\n",
    "# now look for prime factors\n",
    "def prime_factor(a, k, N):\n",
    "    L = np.math.factorial(k)\n",
    "    return gcd(L, N)\n",
    "\n",
    "k = 2\n",
    "# 1) need to beware of 2^k when k goes large\n",
    "# 2) notice N probably has to be actually a product of two primes, \n",
    "#    otherwise while loop below will run forever. We can certainly write \n",
    "#    something to check if N is given as a prime.\n",
    "#    secondly, if N is not prodcuts of primes, then this algo does not work\n",
    "while prime_factor(a, k, N) in [1, N]:\n",
    "    k += 1\n",
    "    #print \">>>>> k = \", k\n",
    "result = prime_factor(a, k, N)\n",
    "t_end = time.time()\n",
    "print \"Total time used %.16f sec\" % (t_end - t_int) # figure out digits of float in python\n",
    "if result in [1, N]:\n",
    "    print \"Current iteration did not find prime facotr of N!\\n \\\n",
    "           or N is prime\"\n",
    "else:\n",
    "    print \"Prime factors are %d ad %d\" % (result, N/result)"
   ]
  },
  {
   "cell_type": "markdown",
   "metadata": {},
   "source": [
    "### so far any suitable number N less than 1000, out program can handle pretty quick, also tried larger number 967x971, which gave 0.07 sec. Lets try some larger ones,  4049x4049 took 3.685 secs 7919x7919 took 28.014 sec, now for the extreme, we try number around a million, 2763377x2763377 start running around 12 am and until 1am its still not done yet"
   ]
  },
  {
   "cell_type": "code",
   "execution_count": null,
   "metadata": {
    "collapsed": true
   },
   "outputs": [],
   "source": []
  }
 ],
 "metadata": {
  "kernelspec": {
   "display_name": "Python 2",
   "language": "python",
   "name": "python2"
  },
  "language_info": {
   "codemirror_mode": {
    "name": "ipython",
    "version": 2
   },
   "file_extension": ".py",
   "mimetype": "text/x-python",
   "name": "python",
   "nbconvert_exporter": "python",
   "pygments_lexer": "ipython2",
   "version": "2.7.12"
  }
 },
 "nbformat": 4,
 "nbformat_minor": 1
}
