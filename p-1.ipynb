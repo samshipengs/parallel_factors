{
 "cells": [
  {
   "cell_type": "code",
   "execution_count": 1,
   "metadata": {
    "collapsed": true
   },
   "outputs": [],
   "source": [
    "# load library\n",
    "import numpy as np\n",
    "import sys\n",
    "import time\n",
    "from fractions import gcd\n",
    "from multiprocessing import Pool\n",
    "from functools import partial"
   ]
  },
  {
   "cell_type": "markdown",
   "metadata": {},
   "source": [
    "Define sequential implementation of pollard p-1"
   ]
  },
  {
   "cell_type": "code",
   "execution_count": 2,
   "metadata": {
    "collapsed": true
   },
   "outputs": [],
   "source": [
    "def pollard_pm1(n):\n",
    "    t1 = time.time()\n",
    "    # now we find the coprime a\n",
    "    a = 2\n",
    "    while gcd(a, n) != 1:\n",
    "        a += 1\n",
    "    t2 = time.time()\n",
    "    print \"Finding a took: %.10f sec\" % (t2 - t1)\n",
    "    print \"Coprime a is: \", a\n",
    "    # now look for prime factors\n",
    "    def prime_factor(k):\n",
    "        L = np.math.factorial(k)\n",
    "        return gcd(a**L-1, n)\n",
    "    k = 1\n",
    "    result = 1\n",
    "    while result in [1, n]:\n",
    "        result = prime_factor(k)\n",
    "        k += 1\n",
    "    t3 = time.time()\n",
    "    print \"Total time used %.16f sec\" % (t3 - t1)\n",
    "    if result in [1, n]:\n",
    "        print \"Current iteration did not find prime facotr of N! or N is prime\"\n",
    "    else:\n",
    "        print \"Prime factors are %d ad %d\" % (result, n/result)"
   ]
  },
  {
   "cell_type": "code",
   "execution_count": 3,
   "metadata": {
    "collapsed": false
   },
   "outputs": [
    {
     "name": "stdout",
     "output_type": "stream",
     "text": [
      "Finding a took: 0.0000078678 sec\n",
      "Coprime a is:  2\n",
      "Total time used 53.9340159893035889 sec\n",
      "Prime factors are 53 ad 59\n"
     ]
    }
   ],
   "source": [
    "# use small prime numbers for p-1: https://primes.utm.edu/lists/small/1000.txt\n",
    "N = 53*59\n",
    "pollard_pm1(N)"
   ]
  },
  {
   "cell_type": "markdown",
   "metadata": {
    "collapsed": true
   },
   "source": [
    "Now parallel implementation"
   ]
  },
  {
   "cell_type": "code",
   "execution_count": 4,
   "metadata": {
    "collapsed": true
   },
   "outputs": [],
   "source": [
    "n = N"
   ]
  },
  {
   "cell_type": "code",
   "execution_count": 5,
   "metadata": {
    "collapsed": false
   },
   "outputs": [
    {
     "name": "stdout",
     "output_type": "stream",
     "text": [
      "Finding a took: 0.0002229214 sec\n",
      "Coprime a is:  2\n",
      "Total time used 43.1968381404876709 sec\n",
      "Prime factors are 53 ad 59\n"
     ]
    }
   ],
   "source": [
    "t1 = time.time()\n",
    "# now we find the coprime a\n",
    "a = 2\n",
    "while gcd(a, n) != 1:\n",
    "    a += 1\n",
    "t2 = time.time()\n",
    "print \"Finding a took: %.10f sec\" % (t2 - t1)\n",
    "print \"Coprime a is: \", a\n",
    "# now look for prime factors\n",
    "def prime_factor(k):\n",
    "    L = np.math.factorial(k)\n",
    "    return gcd(a**L-1, n)\n",
    "k = 1\n",
    "result = 1\n",
    "p = Pool(4) # use Pool from multiprocessing\n",
    "while result in [1, n]:\n",
    "    results = p.map(prime_factor, [k, k+1, k+2, k+3])\n",
    "    k += 4\n",
    "    for i in results:\n",
    "        if i not in [1, n]:\n",
    "            result = i\n",
    "t3 = time.time()\n",
    "p.close()\n",
    "p.join()\n",
    "print \"Total time used %.16f sec\" % (t3 - t1)\n",
    "if result in [1, n]:\n",
    "    print \"Current iteration did not find prime facotr of N! or N is prime\"\n",
    "else:\n",
    "    print \"Prime factors are %d ad %d\" % (result, n/result)"
   ]
  },
  {
   "cell_type": "code",
   "execution_count": null,
   "metadata": {
    "collapsed": true
   },
   "outputs": [],
   "source": []
  }
 ],
 "metadata": {
  "kernelspec": {
   "display_name": "Python 2",
   "language": "python",
   "name": "python2"
  },
  "language_info": {
   "codemirror_mode": {
    "name": "ipython",
    "version": 2
   },
   "file_extension": ".py",
   "mimetype": "text/x-python",
   "name": "python",
   "nbconvert_exporter": "python",
   "pygments_lexer": "ipython2",
   "version": "2.7.11"
  }
 },
 "nbformat": 4,
 "nbformat_minor": 0
}
